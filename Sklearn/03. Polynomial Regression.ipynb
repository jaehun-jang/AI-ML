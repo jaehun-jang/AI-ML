{
 "cells": [
  {
   "cell_type": "markdown",
   "id": "d065a8e8",
   "metadata": {},
   "source": [
    "# 3. Polynomial Regression"
   ]
  },
  {
   "cell_type": "markdown",
   "id": "07cdda6c",
   "metadata": {},
   "source": [
    "### 공부 시간에 따른 시험 점수 (우등생)"
   ]
  },
  {
   "cell_type": "code",
   "execution_count": null,
   "id": "1a12435e",
   "metadata": {},
   "outputs": [],
   "source": [
    "import numpy as np\n",
    "import matplotlib.pyplot as plt\n",
    "import pandas as pd"
   ]
  },
  {
   "cell_type": "code",
   "execution_count": null,
   "id": "dd01fa3c",
   "metadata": {},
   "outputs": [],
   "source": [
    "dataset = pd.read_csv('PolynomialRegressionData.csv')\n",
    "X = dataset.iloc[:, :-1].values\n",
    "y = dataset.iloc[:, -1].values"
   ]
  },
  {
   "cell_type": "markdown",
   "id": "2101d445",
   "metadata": {},
   "source": [
    "## 3-1. 단순 선형 회귀 (Simple Linear Regression)"
   ]
  },
  {
   "cell_type": "code",
   "execution_count": null,
   "id": "eebb6e8d",
   "metadata": {},
   "outputs": [],
   "source": [
    "from sklearn.linear_model import LinearRegression\n",
    "l_reg = LinearRegression()\n",
    "l_reg.fit(X, y) # 전체 데이터로 학습"
   ]
  },
  {
   "cell_type": "markdown",
   "id": "4d68e459",
   "metadata": {},
   "source": [
    "### 데이터 시각화 (전체)"
   ]
  },
  {
   "cell_type": "code",
   "execution_count": null,
   "id": "6eaa5a91",
   "metadata": {},
   "outputs": [],
   "source": [
    "plt.scatter(X, y, color='blue') # 산점도\n",
    "plt.plot(X, l_reg.predict(X), color='green') # 선 그래프\n",
    "plt.title('Score by hours (genius)') # 제목\n",
    "plt.xlabel('hours') # X 축 이름\n",
    "plt.ylabel('score') # Y 축 이름\n",
    "plt.show()"
   ]
  },
  {
   "cell_type": "code",
   "execution_count": null,
   "id": "22eda9eb",
   "metadata": {},
   "outputs": [],
   "source": [
    "l_reg.score(X, y) # 전체 데이터를 통한 모델 평가"
   ]
  },
  {
   "cell_type": "code",
   "execution_count": null,
   "id": "f42656a4",
   "metadata": {},
   "outputs": [],
   "source": [
    "from sklearn.metrics import mean_squared_error\n",
    "mean_squared_error(y, l_reg.predict(X), squared=False) # RMSE"
   ]
  },
  {
   "cell_type": "markdown",
   "id": "730a9a40",
   "metadata": {},
   "source": [
    "## 3-2. 다항 회귀 (Polynomial Regression)"
   ]
  },
  {
   "cell_type": "code",
   "execution_count": null,
   "id": "5a778d48",
   "metadata": {},
   "outputs": [],
   "source": [
    "from sklearn.preprocessing import PolynomialFeatures\n",
    "poly_obj = PolynomialFeatures(degree=3) # 3차\n",
    "X_poly = poly_obj.fit_transform(X)\n",
    "X_poly[:5] # [x] -> [x^0, x^1, x^2] -> x 가 3이라면 [1, 3, 9] 으로 변환"
   ]
  },
  {
   "cell_type": "code",
   "execution_count": null,
   "id": "de3df7e5",
   "metadata": {},
   "outputs": [],
   "source": [
    "poly_obj.get_feature_names_out()  # 다항식 특성을 생성한 후에, 각 특성의 이름을 반환하는 메서드입니다"
   ]
  },
  {
   "cell_type": "code",
   "execution_count": null,
   "id": "915aa6c3",
   "metadata": {},
   "outputs": [],
   "source": [
    "X[:5]"
   ]
  },
  {
   "cell_type": "code",
   "execution_count": null,
   "id": "d332d5cf",
   "metadata": {},
   "outputs": [],
   "source": [
    "poly_reg = LinearRegression()\n",
    "poly_reg.fit(X_poly, y) # 변환된 X 와 y 를 가지고 모델 생성 (학습)\n",
    "y_pred = poly_reg.predict(X_poly)"
   ]
  },
  {
   "cell_type": "markdown",
   "id": "1b9cef27",
   "metadata": {},
   "source": [
    "### 데이터 시각화 (변환된 X 와 y)"
   ]
  },
  {
   "cell_type": "code",
   "execution_count": null,
   "id": "9e34fbc4",
   "metadata": {},
   "outputs": [],
   "source": [
    "plt.scatter(X, y, color='blue')\n",
    "plt.plot(X, poly_reg.predict(X_poly), color='green') # X 에서 X_Poly로 형 변환된 값 대입.\n",
    "plt.title('Score by hours (genius)') # 제목\n",
    "plt.xlabel('hours') # X 축 이름\n",
    "plt.ylabel('score') # Y 축 이름\n",
    "plt.show()"
   ]
  },
  {
   "cell_type": "code",
   "execution_count": null,
   "id": "dbdd62e0",
   "metadata": {},
   "outputs": [],
   "source": [
    "X_range = np.arange(min(X), max(X), 0.1) # X 의 최소값에서 최대값까지의 범위를 0.1 단위로 잘라서 데이터를 생성\n",
    "X_range"
   ]
  },
  {
   "cell_type": "code",
   "execution_count": null,
   "id": "934b6975",
   "metadata": {},
   "outputs": [],
   "source": [
    "X_range.shape"
   ]
  },
  {
   "cell_type": "code",
   "execution_count": null,
   "id": "7ac46467",
   "metadata": {},
   "outputs": [],
   "source": [
    "X[:5]"
   ]
  },
  {
   "cell_type": "code",
   "execution_count": null,
   "id": "74195e81",
   "metadata": {},
   "outputs": [],
   "source": [
    "X.shape"
   ]
  },
  {
   "cell_type": "code",
   "execution_count": null,
   "id": "b0d43228",
   "metadata": {},
   "outputs": [],
   "source": [
    "X_range = X_range.reshape(-1, 1) # row 개수는 자동으로 계산, column 개수는 1개\n",
    "X_range.shape"
   ]
  },
  {
   "cell_type": "code",
   "execution_count": null,
   "id": "7da8cfe7",
   "metadata": {},
   "outputs": [],
   "source": [
    "X_range[:5]"
   ]
  },
  {
   "cell_type": "code",
   "execution_count": null,
   "id": "9bdf369f",
   "metadata": {},
   "outputs": [],
   "source": [
    "X_poly_range_ = poly_obj.fit_transform(X_range)\n",
    "y_pred = poly_reg.predict(X_poly_range_)"
   ]
  },
  {
   "cell_type": "code",
   "execution_count": null,
   "id": "2ea7cfa5",
   "metadata": {},
   "outputs": [],
   "source": [
    "plt.scatter(X, y, color='blue')\n",
    "plt.plot(X_range, y_pred, color='green')\n",
    "# plt.plot(X_range, poly_reg.predict(poly_obj.fit_transform(X_range)), color='green')\n",
    "plt.title('Score by hours (genius)') # 제목\n",
    "plt.xlabel('hours') # X 축 이름\n",
    "plt.ylabel('score') # Y 축 이름\n",
    "plt.show()"
   ]
  },
  {
   "cell_type": "markdown",
   "id": "9cf10331",
   "metadata": {},
   "source": [
    "### 공부 시간에 따른 시험 성적 예측"
   ]
  },
  {
   "cell_type": "code",
   "execution_count": null,
   "id": "d24f30bb",
   "metadata": {},
   "outputs": [],
   "source": [
    "l_reg.predict([[2]]) # 2시간을 공부했을 때 선형 회귀 모델의 예측"
   ]
  },
  {
   "cell_type": "code",
   "execution_count": null,
   "id": "ec11deb7",
   "metadata": {
    "scrolled": true
   },
   "outputs": [],
   "source": [
    "poly_reg.predict(poly_obj.fit_transform([[2]])) # 2시간을 공부했을 때 다항 회귀 모델의 예측"
   ]
  },
  {
   "cell_type": "code",
   "execution_count": null,
   "id": "6ddbccd6",
   "metadata": {},
   "outputs": [],
   "source": [
    "l_reg.score(X, y)"
   ]
  },
  {
   "cell_type": "code",
   "execution_count": null,
   "id": "46d8e760",
   "metadata": {},
   "outputs": [],
   "source": [
    "poly_reg.score(X_poly, y)"
   ]
  },
  {
   "cell_type": "markdown",
   "id": "f7b22a9c",
   "metadata": {},
   "source": [
    "# ChatGPT Recommend Code"
   ]
  },
  {
   "cell_type": "code",
   "execution_count": null,
   "id": "5185d534",
   "metadata": {},
   "outputs": [],
   "source": [
    "import numpy as np\n",
    "import matplotlib.pyplot as plt\n",
    "import pandas as pd\n",
    "from sklearn.pipeline import make_pipeline\n",
    "from sklearn.linear_model import LinearRegression\n",
    "from sklearn.preprocessing import PolynomialFeatures\n",
    "\n",
    "dataset = pd.read_csv('PolynomialRegressionData.csv')\n",
    "X = dataset.iloc[:, :-1].values\n",
    "y = dataset.iloc[:, -1].values\n",
    "\n",
    "# make_pipeline을 사용하여 선형 회귀와 다항 회귀를 연결\n",
    "model = make_pipeline(PolynomialFeatures(degree=3), LinearRegression())\n",
    "model.fit(X, y)\n",
    "\n",
    "# 새로운 데이터 포인트 생성\n",
    "# X_range = np.linspace(min(X), max(X), 100).reshape(-1, 1)\n",
    "\n",
    "# 시각화\n",
    "plt.scatter(X, y, color='blue')\n",
    "# plt.plot(X, model.predict(X), color='green')\n",
    "plt.plot(X_range, model.predict(X_range), color='green')\n",
    "plt.title('Score by hours (genius)')  # 제목\n",
    "plt.xlabel('hours')  # X 축 이름\n",
    "plt.ylabel('score')  # Y 축 이름\n",
    "plt.show()\n",
    "\n"
   ]
  }
 ],
 "metadata": {
  "kernelspec": {
   "display_name": "Python 3",
   "language": "python",
   "name": "python3"
  },
  "language_info": {
   "codemirror_mode": {
    "name": "ipython",
    "version": 3
   },
   "file_extension": ".py",
   "mimetype": "text/x-python",
   "name": "python",
   "nbconvert_exporter": "python",
   "pygments_lexer": "ipython3",
   "version": "3.11.4"
  }
 },
 "nbformat": 4,
 "nbformat_minor": 5
}
