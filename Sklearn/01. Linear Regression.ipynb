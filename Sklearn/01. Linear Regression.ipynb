{
 "cells": [
  {
   "cell_type": "markdown",
   "id": "61576722",
   "metadata": {},
   "source": [
    "# 1. Linear Regression\n",
    "### 공부 시간에 따른 시험 점수"
   ]
  },
  {
   "cell_type": "code",
   "execution_count": null,
   "id": "76d88aff",
   "metadata": {},
   "outputs": [],
   "source": [
    "import matplotlib.pyplot as plt\n",
    "import pandas as pd"
   ]
  },
  {
   "cell_type": "code",
   "execution_count": null,
   "id": "13fdabe8",
   "metadata": {},
   "outputs": [],
   "source": [
    "df = pd.read_csv('LinearRegressionData.csv')"
   ]
  },
  {
   "cell_type": "code",
   "execution_count": null,
   "id": "bd020893",
   "metadata": {},
   "outputs": [],
   "source": [
    "df.head()"
   ]
  },
  {
   "cell_type": "code",
   "execution_count": null,
   "id": "e711a2e8",
   "metadata": {},
   "outputs": [],
   "source": [
    "X = df.iloc[:, :-1].values # 처음부터 마지막 컬럼 직전까지의 데이터 (독립 변수 - 원인)\n",
    "y = df.iloc[:, -1].values # 마지막 컬럼 데이터 (종속 변수 - 결과)"
   ]
  },
  {
   "cell_type": "code",
   "execution_count": null,
   "id": "ef7c870e",
   "metadata": {},
   "outputs": [],
   "source": [
    "X, y"
   ]
  },
  {
   "cell_type": "code",
   "execution_count": null,
   "id": "3d8c324a",
   "metadata": {},
   "outputs": [],
   "source": [
    "from sklearn.linear_model import LinearRegression\n",
    "l_reg = LinearRegression() # 객체 생성\n",
    "l_reg.fit(X, y) # 학습 (모델 생성)"
   ]
  },
  {
   "cell_type": "code",
   "execution_count": null,
   "id": "786cf613",
   "metadata": {},
   "outputs": [],
   "source": [
    "y_pred = l_reg.predict(X) # X 에 대한 예측 값\n",
    "y_pred"
   ]
  },
  {
   "cell_type": "code",
   "execution_count": null,
   "id": "30134309",
   "metadata": {},
   "outputs": [],
   "source": [
    "plt.scatter(X, y, color='blue') # 산점도\n",
    "plt.plot(X, y_pred, color='green') # 선 그래프\n",
    "plt.title('Score by hours') # 제목\n",
    "plt.xlabel('hours') # X 축 이름\n",
    "plt.ylabel('score') # Y 축 이름\n",
    "plt.show()"
   ]
  },
  {
   "cell_type": "code",
   "execution_count": null,
   "id": "e67dd863",
   "metadata": {},
   "outputs": [],
   "source": [
    "print('9시간 공부했을 때 예상 점수 : ', l_reg.predict([[9]])) "
   ]
  },
  {
   "cell_type": "code",
   "execution_count": null,
   "id": "215852b8",
   "metadata": {},
   "outputs": [],
   "source": [
    "l_reg.coef_ # 기울기 계수(m)"
   ]
  },
  {
   "cell_type": "code",
   "execution_count": null,
   "id": "91615e64",
   "metadata": {},
   "outputs": [],
   "source": [
    "l_reg.intercept_ # y 절편 (b)"
   ]
  },
  {
   "cell_type": "markdown",
   "id": "e7f20030",
   "metadata": {},
   "source": [
    "If y = 9: y = mx + b  -> y = 10.4436 x - 0.2184 = 10.443 * 9 - 0.2184 = 93.774"
   ]
  },
  {
   "cell_type": "markdown",
   "id": "44d88248",
   "metadata": {},
   "source": [
    "### 데이터 세트 분리"
   ]
  },
  {
   "cell_type": "code",
   "execution_count": null,
   "id": "955e40a5",
   "metadata": {},
   "outputs": [],
   "source": [
    "import matplotlib.pyplot as plt\n",
    "import pandas as pd"
   ]
  },
  {
   "cell_type": "code",
   "execution_count": null,
   "id": "4f50aca6",
   "metadata": {},
   "outputs": [],
   "source": [
    "df = pd.read_csv('LinearRegressionData.csv')"
   ]
  },
  {
   "cell_type": "code",
   "execution_count": null,
   "id": "30ef3032",
   "metadata": {},
   "outputs": [],
   "source": [
    "X = df.iloc[:, :-1].values\n",
    "y = df.iloc[:, -1].values"
   ]
  },
  {
   "cell_type": "code",
   "execution_count": null,
   "id": "36908570",
   "metadata": {},
   "outputs": [],
   "source": [
    "from sklearn.model_selection import train_test_split\n",
    "X_train, X_test, y_train, y_test = train_test_split(X, y, test_size=0.2, random_state=0) # 훈련 80 : 테스트 20 으로 분리"
   ]
  },
  {
   "cell_type": "code",
   "execution_count": null,
   "id": "bbeb703c",
   "metadata": {},
   "outputs": [],
   "source": [
    "X, len(X) # 전체 데이터 X, 개수"
   ]
  },
  {
   "cell_type": "code",
   "execution_count": null,
   "id": "c2d42b0a",
   "metadata": {},
   "outputs": [],
   "source": [
    "X_train, len(X_train) # 훈련 세트 X, 개수"
   ]
  },
  {
   "cell_type": "code",
   "execution_count": null,
   "id": "0265a8f9",
   "metadata": {
    "scrolled": true
   },
   "outputs": [],
   "source": [
    "X_test, len(X_test) # 테스트 세트 X, 개수"
   ]
  },
  {
   "cell_type": "code",
   "execution_count": null,
   "id": "6b0dbc59",
   "metadata": {},
   "outputs": [],
   "source": [
    "y, len(y) # 전체 데이터 y"
   ]
  },
  {
   "cell_type": "code",
   "execution_count": null,
   "id": "8525e49c",
   "metadata": {},
   "outputs": [],
   "source": [
    "y_train, len(y_train) # 훈련 세트 y"
   ]
  },
  {
   "cell_type": "code",
   "execution_count": null,
   "id": "c69fe463",
   "metadata": {},
   "outputs": [],
   "source": [
    "y_test, len(y_test) # 테스트 세트 y"
   ]
  },
  {
   "cell_type": "markdown",
   "id": "0c7eaac0",
   "metadata": {},
   "source": [
    "### 분리된 데이터를 통한 모델링"
   ]
  },
  {
   "cell_type": "code",
   "execution_count": null,
   "id": "67499f70",
   "metadata": {},
   "outputs": [],
   "source": [
    "from sklearn.linear_model import LinearRegression\n",
    "l_reg = LinearRegression()"
   ]
  },
  {
   "cell_type": "code",
   "execution_count": null,
   "id": "3e47527b",
   "metadata": {},
   "outputs": [],
   "source": [
    "l_reg.fit(X_train, y_train) # 훈련 세트로 학습"
   ]
  },
  {
   "cell_type": "markdown",
   "id": "4aec330d",
   "metadata": {},
   "source": [
    "### 데이터 시각화 (훈련 세트)"
   ]
  },
  {
   "cell_type": "code",
   "execution_count": null,
   "id": "ba641b03",
   "metadata": {},
   "outputs": [],
   "source": [
    "plt.scatter(X_train, y_train, color='blue') # 산점도\n",
    "plt.plot(X_train, l_reg.predict(X_train), color='green') # 선 그래프\n",
    "plt.title('Score by hours (train data)') # 제목\n",
    "plt.xlabel('hours') # X 축 이름\n",
    "plt.ylabel('score') # Y 축 이름\n",
    "plt.show()"
   ]
  },
  {
   "cell_type": "markdown",
   "id": "129cd837",
   "metadata": {},
   "source": [
    "### 데이터 시각화 (테스트 세트)"
   ]
  },
  {
   "cell_type": "code",
   "execution_count": null,
   "id": "3184268a",
   "metadata": {},
   "outputs": [],
   "source": [
    "plt.scatter(X_test, y_test, color='blue') # 산점도\n",
    "plt.plot(X_train, l_reg.predict(X_train), color='green') # 선 그래프\n",
    "plt.title('Score by hours (test data)') # 제목\n",
    "plt.xlabel('hours') # X 축 이름\n",
    "plt.ylabel('score') # Y 축 이름\n",
    "plt.show()"
   ]
  },
  {
   "cell_type": "code",
   "execution_count": null,
   "id": "01cba3cb",
   "metadata": {},
   "outputs": [],
   "source": [
    "l_reg.coef_"
   ]
  },
  {
   "cell_type": "code",
   "execution_count": null,
   "id": "a7e97ee1",
   "metadata": {},
   "outputs": [],
   "source": [
    "l_reg.intercept_"
   ]
  },
  {
   "cell_type": "markdown",
   "id": "670bd18d",
   "metadata": {},
   "source": [
    "### 모델 평가"
   ]
  },
  {
   "cell_type": "code",
   "execution_count": null,
   "id": "55548d70",
   "metadata": {},
   "outputs": [],
   "source": [
    "l_reg.score(X_test, y_test) # 테스트 세트를 통한 모델 평가"
   ]
  },
  {
   "cell_type": "code",
   "execution_count": null,
   "id": "5c258af0",
   "metadata": {
    "scrolled": true
   },
   "outputs": [],
   "source": [
    "l_reg.score(X_train, y_train) # 훈련 세트를 통한 모델 평가"
   ]
  },
  {
   "cell_type": "markdown",
   "id": "276c3d09",
   "metadata": {},
   "source": [
    "## 경사 하강법 (Gradient Descent)"
   ]
  },
  {
   "cell_type": "markdown",
   "id": "5f0bb731",
   "metadata": {},
   "source": [
    "max_iter : 훈련 세트 반복 횟수 (Epoch 횟수)\n",
    "\n",
    "eta0 : 학습률 (learning rate)"
   ]
  },
  {
   "cell_type": "code",
   "execution_count": null,
   "id": "17213553",
   "metadata": {},
   "outputs": [],
   "source": [
    "from sklearn.linear_model import SGDRegressor # SGD : Stochastic Gradient Descent 확률적 경사 하강법\n",
    "\n",
    "# 지수표기법\n",
    "# 1e-3 : 0.001 (10^-3)\n",
    "# 1e-4 : 0.0001 (10^-4)\n",
    "# 1e+3 : 1000 (10^3)\n",
    "# 1e+4 : 10000 (10^4)\n",
    "\n",
    "sgd_reg = SGDRegressor(max_iter=100, eta0=1e-3, random_state=0, verbose=0)\n",
    "# sr = SGDRegressor()\n",
    "sgd_reg.fit(X_train, y_train)"
   ]
  },
  {
   "cell_type": "code",
   "execution_count": null,
   "id": "c73a36b6",
   "metadata": {},
   "outputs": [],
   "source": [
    "plt.scatter(X_train, y_train, color='blue') # 산점도\n",
    "plt.plot(X_train, sgd_reg.predict(X_train), color='green') # 선 그래프\n",
    "plt.title('Score by hours (train data, SGD)') # 제목\n",
    "plt.xlabel('hours') # X 축 이름\n",
    "plt.ylabel('score') # Y 축 이름\n",
    "plt.show()"
   ]
  },
  {
   "cell_type": "code",
   "execution_count": null,
   "id": "9143f755",
   "metadata": {},
   "outputs": [],
   "source": [
    "sgd_reg.coef_, sgd_reg.intercept_\n",
    "# 주의 : SGDRegressor() 객체를 생성할 때 random_state 값을 지정하지 않았으므로 결과가 다르게 나타날 수 있습니다"
   ]
  },
  {
   "cell_type": "code",
   "execution_count": null,
   "id": "8e01241d",
   "metadata": {},
   "outputs": [],
   "source": [
    "sgd_reg.score(X_test, y_test) # 테스트 세트를 통한 모델 평가 "
   ]
  },
  {
   "cell_type": "code",
   "execution_count": null,
   "id": "ee1306ec",
   "metadata": {},
   "outputs": [],
   "source": [
    "sgd_reg.score(X_train, y_train) # 훈련 세트를 통한 모델 평가 "
   ]
  }
 ],
 "metadata": {
  "kernelspec": {
   "display_name": "Python 3",
   "language": "python",
   "name": "python3"
  },
  "language_info": {
   "codemirror_mode": {
    "name": "ipython",
    "version": 3
   },
   "file_extension": ".py",
   "mimetype": "text/x-python",
   "name": "python",
   "nbconvert_exporter": "python",
   "pygments_lexer": "ipython3",
   "version": "3.11.4"
  }
 },
 "nbformat": 4,
 "nbformat_minor": 5
}
