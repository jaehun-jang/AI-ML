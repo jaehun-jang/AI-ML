{
 "cells": [
  {
   "cell_type": "markdown",
   "metadata": {},
   "source": [
    "MR after ML "
   ]
  },
  {
   "cell_type": "code",
   "execution_count": null,
   "metadata": {},
   "outputs": [],
   "source": [
    "from sklearn.datasets import load_iris\n",
    "from sklearn.model_selection import train_test_split\n",
    "from sklearn.ensemble import RandomForestClassifier\n",
    "\n",
    "# Iris 데이터셋 로드\n",
    "iris = load_iris()\n",
    "X = iris.data\n",
    "y = iris.target\n",
    "\n",
    "# 데이터 분할\n",
    "X_train, X_test, y_train, y_test = train_test_split(X, y, test_size=0.2, random_state=42)\n",
    "\n",
    "# 분류 모델 학습\n",
    "clf = RandomForestClassifier(random_state=42)\n",
    "clf.fit(X_train, y_train)\n",
    "\n",
    "# 예측 결과 가져오기\n",
    "y_pred = clf.predict(X_test)\n",
    "\n",
    "# 분류 결과와 관련된 추가 정보를 생성하는 함수\n",
    "def machine_reasoning(predictions):\n",
    "    reasoning_info = []\n",
    "\n",
    "    for pred in predictions:\n",
    "        if pred == 0:\n",
    "            reasoning_info.append(\"Iris-setosa: This species is known for its small size and distinct characteristics.\")\n",
    "        elif pred == 1:\n",
    "            reasoning_info.append(\"Iris-versicolor: This species is characterized by its intermediate size and appearance.\")\n",
    "        else:\n",
    "            reasoning_info.append(\"Iris-virginica: This species is known for its larger size and unique features.\")\n",
    "\n",
    "    return reasoning_info\n",
    "\n",
    "# 기계 추론 수행\n",
    "reasoning_results = machine_reasoning(y_pred)\n",
    "\n",
    "# 결과 출력\n",
    "print(\"Machine Learning Predictions:\")\n",
    "for i, pred in enumerate(y_pred):\n",
    "    print(f\"Prediction: {pred}, {iris.target_names[pred]}\")\n",
    "\n",
    "print(\"\\nMachine Reasoning Results:\")\n",
    "for i, reasoning in enumerate(reasoning_results):\n",
    "    print(f\"Prediction {i+1} Reasoning: {reasoning}\")\n",
    "    print(f\"Prediction {i+1} Reasoning: {reasoning}\")\n",
    "\n"
   ]
  }
 ],
 "metadata": {
  "kernelspec": {
   "display_name": "Python 3",
   "language": "python",
   "name": "python3"
  },
  "language_info": {
   "codemirror_mode": {
    "name": "ipython",
    "version": 3
   },
   "file_extension": ".py",
   "mimetype": "text/x-python",
   "name": "python",
   "nbconvert_exporter": "python",
   "pygments_lexer": "ipython3",
   "version": "3.11.4"
  }
 },
 "nbformat": 4,
 "nbformat_minor": 2
}
