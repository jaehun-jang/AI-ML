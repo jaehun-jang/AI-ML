{
 "cells": [
  {
   "cell_type": "markdown",
   "id": "ca20b18e",
   "metadata": {},
   "source": [
    "# 5. K-Means"
   ]
  },
  {
   "cell_type": "code",
   "execution_count": null,
   "id": "aaa1099f",
   "metadata": {},
   "outputs": [],
   "source": [
    "import os # 경고 대응\n",
    "os.environ['OMP_NUM_THREADS'] = '1'"
   ]
  },
  {
   "cell_type": "code",
   "execution_count": null,
   "id": "9f54e7f8",
   "metadata": {},
   "outputs": [],
   "source": [
    "import numpy as np\n",
    "import matplotlib.pyplot as plt\n",
    "import pandas as pd"
   ]
  },
  {
   "cell_type": "code",
   "execution_count": null,
   "id": "abcec6f8",
   "metadata": {},
   "outputs": [],
   "source": [
    "df = pd.read_csv('KMeansData.csv')\n",
    "df[:5]"
   ]
  },
  {
   "cell_type": "code",
   "execution_count": null,
   "id": "10483b6b",
   "metadata": {},
   "outputs": [],
   "source": [
    "X = df.iloc[:, :].values\n",
    "# X = dataset.values\n",
    "# X = dataset.to_numpy() # 공식 홈페이지 권장\n",
    "X[:5]"
   ]
  },
  {
   "cell_type": "markdown",
   "id": "544abeef",
   "metadata": {},
   "source": [
    "### 데이터 시각화 (전체 데이터 분포 확인)"
   ]
  },
  {
   "cell_type": "code",
   "execution_count": null,
   "id": "00d0e387",
   "metadata": {},
   "outputs": [],
   "source": [
    "plt.scatter(X[:, 0], X[:, 1]) # x축 : hour, y축 : score\n",
    "plt.title('Score by hours')\n",
    "plt.xlabel('hours')\n",
    "plt.ylabel('score')\n",
    "plt.show()"
   ]
  },
  {
   "cell_type": "markdown",
   "id": "c34e6514",
   "metadata": {},
   "source": [
    "|유클리디안 거리(Euclidean distance): 가장 흔하게 사용되는 거리 측정 방식입니다. 두 점 사이의 직선 거리를 계산합니다.           \n",
    "|맨하탄 거리(Manhattan distance 또는 L1 거리): 각 차원의 차이의 절대값의 합을 계산합니다.           \n",
    "|코사인 유사도(Cosine Similarity): 벡터 간의 각도에 대한 코사인을 측정합니다. 값이 0이면 방향이 다르고, 1이면 완전히 같은 방향입니다.           "
   ]
  },
  {
   "cell_type": "markdown",
   "id": "fc4d0a56",
   "metadata": {},
   "source": [
    "### 데이터 시각화 (축 범위 통일)"
   ]
  },
  {
   "cell_type": "code",
   "execution_count": null,
   "id": "83e6fd61",
   "metadata": {},
   "outputs": [],
   "source": [
    "plt.scatter(X[:, 0], X[:, 1]) # x축 : hour, y축 : score\n",
    "plt.title('Score by hours')\n",
    "plt.xlabel('hours')\n",
    "plt.xlim(0, 100)\n",
    "plt.ylabel('score')\n",
    "plt.ylim(0, 100)\n",
    "plt.show()"
   ]
  },
  {
   "cell_type": "markdown",
   "id": "686d77b6",
   "metadata": {},
   "source": [
    "### 피처 스케일링 (Feature Scaling)"
   ]
  },
  {
   "cell_type": "code",
   "execution_count": null,
   "id": "1c15de4d",
   "metadata": {},
   "outputs": [],
   "source": [
    "from sklearn.preprocessing import StandardScaler\n",
    "sc = StandardScaler()\n",
    "X = sc.fit_transform(X)\n",
    "X[:5]"
   ]
  },
  {
   "cell_type": "markdown",
   "id": "a8478662",
   "metadata": {},
   "source": [
    "### 데이터 시각화 (스케일링된 데이터)"
   ]
  },
  {
   "cell_type": "code",
   "execution_count": null,
   "id": "81c66dd3",
   "metadata": {},
   "outputs": [],
   "source": [
    "plt.figure(figsize=(5, 5))\n",
    "plt.scatter(X[:, 0], X[:, 1])\n",
    "plt.title('Score by hours')\n",
    "plt.xlabel('hours')\n",
    "plt.ylabel('score')\n",
    "plt.show()"
   ]
  },
  {
   "cell_type": "markdown",
   "id": "391e1786",
   "metadata": {},
   "source": [
    "### 최적의 K 값 찾기 (엘보우 방식 Elbow Method)"
   ]
  },
  {
   "cell_type": "code",
   "execution_count": null,
   "id": "046fb43d",
   "metadata": {},
   "outputs": [],
   "source": [
    "from sklearn.cluster import KMeans\n",
    "inertia_list = []\n",
    "for i in range(1, 11):\n",
    "    kmeans = KMeans(n_clusters=i, init='k-means++', random_state=0)\n",
    "    kmeans.fit(X)\n",
    "    inertia_list.append(kmeans.inertia_) # 각 지점으로부터 클러스터의 중심(centroid) 까지의 거리의 제곱의 합\n",
    " \n",
    "# 리스트 컴프리헨션: inertia_list = [KMeans(n_clusters=i, init='k-means++', random_state=0).fit(X_scaled).inertia_ for i in range(1, 11)]\n",
    "   \n",
    "plt.plot(range(1, 11), inertia_list)\n",
    "plt.title('Elbow Method')\n",
    "plt.xlabel('n_clusters')\n",
    "plt.ylabel('inertia')\n",
    "plt.show()"
   ]
  },
  {
   "cell_type": "markdown",
   "id": "0c3a84fe",
   "metadata": {},
   "source": [
    "### 최적의 K (4) 값으로 KMeans 학습"
   ]
  },
  {
   "cell_type": "code",
   "execution_count": null,
   "id": "6f4ca565",
   "metadata": {},
   "outputs": [],
   "source": [
    "K = 4 # 최적의 K 값"
   ]
  },
  {
   "cell_type": "code",
   "execution_count": null,
   "id": "3d85442d",
   "metadata": {},
   "outputs": [],
   "source": [
    "kmeans = KMeans(n_clusters=K, random_state=0)\n",
    "# kmeans.fit(X)\n",
    "y_kmeans = kmeans.fit_predict(X)"
   ]
  },
  {
   "cell_type": "code",
   "execution_count": null,
   "id": "c553775f",
   "metadata": {},
   "outputs": [],
   "source": [
    "y_kmeans"
   ]
  },
  {
   "cell_type": "markdown",
   "id": "735d4b13",
   "metadata": {},
   "source": [
    "### 데이터 시각화 (최적의 K)"
   ]
  },
  {
   "cell_type": "code",
   "execution_count": null,
   "id": "39a0fecf",
   "metadata": {},
   "outputs": [],
   "source": [
    "centers = kmeans.cluster_centers_ # 클러스터의 중심점 (centroid) 좌표\n",
    "centers"
   ]
  },
  {
   "cell_type": "code",
   "execution_count": null,
   "id": "abf39216",
   "metadata": {},
   "outputs": [],
   "source": [
    "for cluster in range(K):\n",
    "    plt.scatter(X[y_kmeans == cluster, 0], X[y_kmeans == cluster, 1], s=50, edgecolor='black') # 각 데이터\n",
    "    plt.scatter(centers[cluster, 0], centers[cluster, 1], s=150, edgecolor='black', color='yellow', marker='s') # 중심점 네모\n",
    "    plt.text(centers[cluster, 0], centers[cluster, 1], cluster, va='center', ha='center') # 클러스터 텍스트 출력\n",
    "  \n",
    "plt.title('Score by hours')\n",
    "plt.xlabel('hours')\n",
    "plt.ylabel('score')\n",
    "plt.show()"
   ]
  },
  {
   "cell_type": "markdown",
   "id": "74c5828d",
   "metadata": {},
   "source": [
    "### 데이터 시각화 (스케일링 원복)"
   ]
  },
  {
   "cell_type": "code",
   "execution_count": null,
   "id": "4638f2ff",
   "metadata": {},
   "outputs": [],
   "source": [
    "X_org = sc.inverse_transform(X) # Feature Scaling 된 데이터를 다시 원복\n",
    "X_org[:5]"
   ]
  },
  {
   "cell_type": "code",
   "execution_count": null,
   "id": "7d03ca36",
   "metadata": {},
   "outputs": [],
   "source": [
    "centers_org = sc.inverse_transform(centers)\n",
    "centers_org"
   ]
  },
  {
   "cell_type": "code",
   "execution_count": null,
   "id": "6849d7c9",
   "metadata": {},
   "outputs": [],
   "source": [
    "for cluster in range(K):\n",
    "    plt.scatter(X_org[y_kmeans == cluster, 0], X_org[y_kmeans == cluster, 1], s=50, edgecolor='black') # 각 데이터\n",
    "    plt.scatter(centers_org[cluster, 0], centers_org[cluster, 1], s=150, edgecolor='black', color='yellow', marker='s') # 중심점 네모\n",
    "    plt.text(centers_org[cluster, 0], centers_org[cluster, 1], cluster, va='center', ha='center') # 클러스터 텍스트 출력\n",
    "    # print('X:', X_org[y_kmeans == cluster, 0])\n",
    "    # print('y:', X_org[y_kmeans == cluster, 1])\n",
    "plt.title('Score by hours')\n",
    "plt.xlabel('hours')\n",
    "plt.ylabel('score')\n",
    "plt.show()"
   ]
  }
 ],
 "metadata": {
  "kernelspec": {
   "display_name": "Python 3",
   "language": "python",
   "name": "python3"
  },
  "language_info": {
   "codemirror_mode": {
    "name": "ipython",
    "version": 3
   },
   "file_extension": ".py",
   "mimetype": "text/x-python",
   "name": "python",
   "nbconvert_exporter": "python",
   "pygments_lexer": "ipython3",
   "version": "3.11.4"
  }
 },
 "nbformat": 4,
 "nbformat_minor": 5
}
