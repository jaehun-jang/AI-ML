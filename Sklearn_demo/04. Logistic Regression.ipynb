{
 "cells": [
  {
   "cell_type": "markdown",
   "id": "569e27d4",
   "metadata": {},
   "source": [
    "# 4. Logistic Regression"
   ]
  },
  {
   "cell_type": "markdown",
   "id": "0a5ab5f5",
   "metadata": {},
   "source": [
    "### 공부 시간에 따른 자격증 시험 합격 가능성"
   ]
  },
  {
   "cell_type": "code",
   "execution_count": null,
   "id": "828293a7",
   "metadata": {},
   "outputs": [],
   "source": [
    "import numpy as np\n",
    "import matplotlib.pyplot as plt\n",
    "import pandas as pd"
   ]
  },
  {
   "cell_type": "code",
   "execution_count": null,
   "id": "0fb43293",
   "metadata": {},
   "outputs": [],
   "source": [
    "dataset = pd.read_csv('LogisticRegressionData.csv')\n",
    "X = dataset.iloc[:, :-1].values\n",
    "y = dataset.iloc[:, -1].values\n",
    "X"
   ]
  },
  {
   "cell_type": "markdown",
   "id": "af8fbafb",
   "metadata": {},
   "source": [
    "### 데이터 분리"
   ]
  },
  {
   "cell_type": "code",
   "execution_count": null,
   "id": "4b870624",
   "metadata": {},
   "outputs": [],
   "source": [
    "from sklearn.model_selection import train_test_split\n",
    "X_train, X_test, y_train, y_test = train_test_split(X, y, test_size=0.2, random_state=0) #, stratify=y"
   ]
  },
  {
   "cell_type": "markdown",
   "id": "8ce7aa55",
   "metadata": {},
   "source": [
    "### 학습 (로지스틱 회귀 모델)"
   ]
  },
  {
   "cell_type": "code",
   "execution_count": null,
   "id": "b56a822f",
   "metadata": {},
   "outputs": [],
   "source": [
    "from sklearn.linear_model import LogisticRegression\n",
    "lo_reg = LogisticRegression(random_state=0, C=1.0) # C는 정규화(regularization) 강도를 조절하는 매개변수 로 정규화는 모델이 훈련 데이터에 과적합되지 않도록 하는 데 도움을 줍니다\n",
    "lo_reg.fit(X_train, y_train)"
   ]
  },
  {
   "cell_type": "markdown",
   "id": "b82fd25a",
   "metadata": {},
   "source": [
    "### 6시간 공부했을 때 예측?"
   ]
  },
  {
   "cell_type": "code",
   "execution_count": null,
   "id": "9726d7ec",
   "metadata": {},
   "outputs": [],
   "source": [
    "lo_reg.predict([[6]])\n",
    "# 결과 1 : 합격할 것으로 예측"
   ]
  },
  {
   "cell_type": "code",
   "execution_count": null,
   "id": "7b4b65ae",
   "metadata": {},
   "outputs": [],
   "source": [
    "lo_reg.predict_proba([[6]]) # 합격할 확률 출력\n",
    "# 불합격 확률 14%, 합격 확률 86%"
   ]
  },
  {
   "cell_type": "markdown",
   "id": "6f998ad1",
   "metadata": {},
   "source": [
    "### 4시간 공부했을 때 예측?"
   ]
  },
  {
   "cell_type": "code",
   "execution_count": null,
   "id": "a5eaa68d",
   "metadata": {},
   "outputs": [],
   "source": [
    "lo_reg.predict([[4]])\n",
    "# 결과 0 : 불합격할 것으로 예측"
   ]
  },
  {
   "cell_type": "code",
   "execution_count": null,
   "id": "68a92326",
   "metadata": {},
   "outputs": [],
   "source": [
    "lo_reg.predict_proba([[4]]) # 합격할 확률 출력\n",
    "# 불합격 확률 62%, 합격 확률 38%"
   ]
  },
  {
   "cell_type": "markdown",
   "id": "240b763d",
   "metadata": {},
   "source": [
    "### 분류 결과 예측 (테스트 세트)"
   ]
  },
  {
   "cell_type": "code",
   "execution_count": null,
   "id": "7c8ffdf7",
   "metadata": {},
   "outputs": [],
   "source": [
    "y_pred = lo_reg.predict(X_test)\n",
    "y_pred # 예측 값"
   ]
  },
  {
   "cell_type": "code",
   "execution_count": null,
   "id": "839bb943",
   "metadata": {},
   "outputs": [],
   "source": [
    "y_test # 실제 값 (테스트 세트)"
   ]
  },
  {
   "cell_type": "code",
   "execution_count": null,
   "id": "b0f2ef79",
   "metadata": {},
   "outputs": [],
   "source": [
    "X_test # 공부 시간 (테스트 세트)"
   ]
  },
  {
   "cell_type": "code",
   "execution_count": null,
   "id": "f3744fc1",
   "metadata": {},
   "outputs": [],
   "source": [
    "lo_reg.score(X_test, y_test) # 모델 평가\n",
    "# 전체 테스트 세트 4개 중에서 분류 예측을 올바로 맞힌 개수 3개 -> 3/4 = 0.75"
   ]
  },
  {
   "cell_type": "markdown",
   "id": "b578af92",
   "metadata": {},
   "source": [
    "### 데이터 시각화 (훈련 세트)"
   ]
  },
  {
   "cell_type": "code",
   "execution_count": null,
   "id": "e354e315",
   "metadata": {},
   "outputs": [],
   "source": [
    "X_range = np.arange(min(X), max(X), 0.1) # X 의 최소값에서 최대값까지를 0.1 단위로 잘라서 데이터 생성, arange는 실수 지원.\n",
    "X_range"
   ]
  },
  {
   "cell_type": "code",
   "execution_count": null,
   "id": "77a155be",
   "metadata": {},
   "outputs": [],
   "source": [
    "sigmoid = 1 / (1 + np.exp(-(lo_reg.coef_ * X_range + lo_reg.intercept_))) \n",
    "# 로지스틱 회귀 모델의 결정 경계에 대한 시그모이드 함수 계산식 : z=intercept+coef×feature\n",
    "sigmoid"
   ]
  },
  {
   "cell_type": "code",
   "execution_count": null,
   "id": "8d8c5652",
   "metadata": {},
   "outputs": [],
   "source": [
    "sigmoid.shape"
   ]
  },
  {
   "cell_type": "code",
   "execution_count": null,
   "id": "725f3722",
   "metadata": {},
   "outputs": [],
   "source": [
    "X_range.shape"
   ]
  },
  {
   "cell_type": "code",
   "execution_count": null,
   "id": "6ba7429a",
   "metadata": {},
   "outputs": [],
   "source": [
    "sigmoid = sigmoid.reshape(-1) # 1차원 배열 형태로 변경\n",
    "sigmoid.shape"
   ]
  },
  {
   "cell_type": "markdown",
   "id": "322fd8f1",
   "metadata": {},
   "source": [
    "### 데이터 시각화 (트레인 세트)"
   ]
  },
  {
   "cell_type": "code",
   "execution_count": null,
   "id": "762d2ae0",
   "metadata": {},
   "outputs": [],
   "source": [
    "# plt.scatter(X_train, y_train, color='blue')\n",
    "# plt.plot(X_train, lo_reg.predict(X_train), color='green')\n",
    "# plt.plot(X_train, np.full(len(X_train), 0.5), color='red') # X 개수만큼 0.5 로 가득찬 배열 만들기\n",
    "# plt.title('Probability by hours')\n",
    "# plt.xlabel('hours')\n",
    "# plt.ylabel('P')\n",
    "# plt.show()\n",
    "# # 변수의 갯수가 너무 적어서 그래프로 표현이 힘들다.\n",
    "\n",
    "plt.scatter(X_train, y_train, color='blue')\n",
    "plt.plot(X_range, sigmoid, color='green')\n",
    "plt.plot(X_range, np.full(len(X_range), 0.5), color='red') # X_range 개수만큼 0.5 로 가득찬 배열 만들기\n",
    "plt.title('Probability by hours')\n",
    "plt.xlabel('hours')\n",
    "plt.ylabel('P')\n",
    "plt.show()\n"
   ]
  },
  {
   "cell_type": "markdown",
   "id": "786dd1af",
   "metadata": {},
   "source": [
    "### 데이터 시각화 (테스트 세트)"
   ]
  },
  {
   "cell_type": "code",
   "execution_count": null,
   "id": "3d58aee8",
   "metadata": {},
   "outputs": [],
   "source": [
    "plt.scatter(X_test, y_test, color='blue')\n",
    "plt.plot(X_range, sigmoid, color='green')\n",
    "plt.plot(X_range, np.full(len(X_range), 0.5), color='red') # X_range 개수만큼 0.5 로 가득찬 배열 만들기\n",
    "plt.title('Probability by hours (test)')\n",
    "plt.xlabel('hours')\n",
    "plt.ylabel('P')\n",
    "plt.show()"
   ]
  },
  {
   "cell_type": "code",
   "execution_count": null,
   "id": "1087ebfc",
   "metadata": {},
   "outputs": [],
   "source": [
    "lo_reg.predict_proba([[4.5]]) # 4.5 시간 공부했을 때 확률 (모델에서는 51% 확률로 합격 예측, 실제로는 불합격)"
   ]
  },
  {
   "cell_type": "markdown",
   "id": "31b4aed9",
   "metadata": {},
   "source": [
    "### 혼동 행렬 (Confusion Matrix)"
   ]
  },
  {
   "cell_type": "code",
   "execution_count": null,
   "id": "d8e8e16b",
   "metadata": {},
   "outputs": [],
   "source": [
    "from sklearn.metrics import confusion_matrix\n",
    "cm = confusion_matrix(y_test, y_pred)\n",
    "cm\n",
    "\n",
    "# TRUE NEGATIVE (TN)       FALSE POSITIVE (FP)\n",
    "# 불합격일거야 (예측)      합격일거야 (예측)\n",
    "# 불합격 (실제)             불합격 (실제)\n",
    "\n",
    "# FALSE NEGATIVE (FN)      TRUE POSITIVE (TP)\n",
    "# 불합격일거야 (예측)      합격일거야 (예측)\n",
    "# 합격 (실제)               합격 (실제)"
   ]
  },
  {
   "cell_type": "markdown",
   "id": "4adf01ab",
   "metadata": {},
   "source": [
    "# ChatGPT "
   ]
  },
  {
   "cell_type": "code",
   "execution_count": null,
   "id": "08a16151",
   "metadata": {},
   "outputs": [],
   "source": [
    "import numpy as np\n",
    "import matplotlib.pyplot as plt\n",
    "import pandas as pd\n",
    "from sklearn.model_selection import train_test_split\n",
    "from sklearn.linear_model import LogisticRegression\n",
    "from sklearn.preprocessing import StandardScaler\n",
    "from sklearn.metrics import confusion_matrix, classification_report\n",
    "\n",
    "# 데이터셋 로드\n",
    "df = pd.read_csv('LogisticRegressionData.csv')\n",
    "\n",
    "# 결측값 확인\n",
    "print(df.isnull().sum())\n",
    "\n",
    "# 데이터 전처리\n",
    "X = df.iloc[:, :-1].values\n",
    "y = df.iloc[:, -1].values\n",
    "\n",
    "# 훈련 및 테스트 데이터 분리\n",
    "X_train, X_test, y_train, y_test = train_test_split(X, y, test_size=0.2, random_state=0)\n",
    "# X_train, X_test, y_train, y_test = train_test_split(X, y, test_size=0.2, random_state=0, stratify=y)\n",
    "print(X_test, y_test)\n",
    "\n",
    "# 로지스틱 회귀 모델\n",
    "lo_reg = LogisticRegression(random_state=0, C=1.0)  # 필요에 따라 C를 조절할 수 있습니다.\n",
    "lo_reg.fit(X_train, y_train)\n",
    "\n",
    "# 예측 및 평가\n",
    "y_pred = lo_reg.predict(X_test)\n",
    "print(\"Classification Report:\\n\", classification_report(y_test, y_pred))\n",
    "print(\"Confusion Matrix:\\n\", confusion_matrix(y_test, y_pred))\n",
    "print(\"Accuracy:\", lo_reg.score(X_test, y_test))\n",
    "\n",
    "# 시각화\n",
    "X_range = np.linspace(X.min(), X.max(), 100).reshape(-1, 1)\n",
    "sigmoid = lo_reg.predict_proba(X_range)[:, 1] #  predict_proba: 예측된 클래스의 확률을 반환하는 메서드입니다.\n",
    "\n",
    "plt.scatter(X_train, y_train, color='blue', label='Actual results')\n",
    "plt.plot(X_range, sigmoid, color='green', label='Predicted probability')\n",
    "plt.axhline(0.5, color='red', linestyle='--', label='Decision boundaries')\n",
    "plt.title('probability (Train)')\n",
    "plt.xlabel('Standardlized Time')\n",
    "plt.ylabel('P')\n",
    "plt.legend()\n",
    "plt.show()\n"
   ]
  }
 ],
 "metadata": {
  "kernelspec": {
   "display_name": "Python 3",
   "language": "python",
   "name": "python3"
  },
  "language_info": {
   "codemirror_mode": {
    "name": "ipython",
    "version": 3
   },
   "file_extension": ".py",
   "mimetype": "text/x-python",
   "name": "python",
   "nbconvert_exporter": "python",
   "pygments_lexer": "ipython3",
   "version": "3.11.4"
  }
 },
 "nbformat": 4,
 "nbformat_minor": 5
}
